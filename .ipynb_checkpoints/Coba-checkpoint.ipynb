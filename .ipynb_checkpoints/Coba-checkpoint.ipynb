{
 "cells": [
  {
   "cell_type": "code",
   "execution_count": null,
   "metadata": {
    "id": "Kh7QMovirQWr"
   },
   "outputs": [],
   "source": [
    "import pandas as pd\r\n",
    "import numpy as np"
   ]
  },
  {
   "cell_type": "code",
   "execution_count": null,
   "metadata": {
    "id": "wNqnd7F8rdiU"
   },
   "outputs": [],
   "source": [
    "training = pd.read_csv('train.csv')\r\n",
    "testing = pd.read_csv'\\test.cvv')"
   ]
  },
  {
   "cell_type": "code",
   "execution_count": null,
   "metadata": {
    "colab": {
     "base_uri": "https://localhost:8080/",
     "height": 224
    },
    "id": "rfwDBKosrsOB",
    "outputId": "0e95eddb-72f3-4e70-8d61-f6d4f07bd46a"
   },
   "outputs": [],
   "source": [
    "training.head()"
   ]
  },
  {
   "cell_type": "code",
   "execution_count": null,
   "metadata": {
    "colab": {
     "base_uri": "https://localhost:8080/"
    },
    "id": "bFNcxqqkruOd",
    "outputId": "aaedf477-373c-4a12-cd52-1af432b6be4b"
   },
   "outputs": [],
   "source": [
    "training.info()"
   ]
  },
  {
   "cell_type": "code",
   "execution_count": null,
   "metadata": {
    "colab": {
     "base_uri": "https://localhost:8080/"
    },
    "id": "4HNng3Z_r204",
    "outputId": "521821ea-2e9e-43b8-c2d5-1190d57f33ad"
   },
   "outputs": [],
   "source": [
    "testing.info()"
   ]
  },
  {
   "cell_type": "code",
   "execution_count": null,
   "metadata": {
    "colab": {
     "base_uri": "https://localhost:8080/"
    },
    "id": "rixNt-_Br-6i",
    "outputId": "c371aad1-b924-4121-9b62-c7c7aa3a227c"
   },
   "outputs": [],
   "source": [
    "def null_table(training, testing):\r\n",
    "    print(\"     Training DF\")\r\n",
    "    print(pd.isnull(training).sum())\r\n",
    "    print(\"     Testing DF\")\r\n",
    "    print(pd.isnull(testing).sum())\r\n",
    "\r\n",
    "null_table(training, testing)"
   ]
  },
  {
   "cell_type": "code",
   "execution_count": null,
   "metadata": {
    "id": "sbPXYfhvsxUA"
   },
   "outputs": [],
   "source": [
    "training = training.dropna()\r\n",
    "training['four_g'] = training['four_g'].replace({'Tidak':0, 'Ya':1})\r\n",
    "testing['four_g'] = testing['four_g'].replace({'Tidak':0, 'Ya':1})"
   ]
  },
  {
   "cell_type": "code",
   "execution_count": null,
   "metadata": {
    "colab": {
     "base_uri": "https://localhost:8080/"
    },
    "id": "h4jBtakvs-x8",
    "outputId": "e74d676e-c2f2-4eb5-bf14-774fc1d68c08"
   },
   "outputs": [],
   "source": [
    "null_table(training, testing)"
   ]
  },
  {
   "cell_type": "code",
   "execution_count": null,
   "metadata": {
    "colab": {
     "base_uri": "https://localhost:8080/",
     "height": 473
    },
    "id": "qZEa6WAXtJGs",
    "outputId": "d0a6f4ff-6926-4f86-e6aa-33daf86e2a83"
   },
   "outputs": [],
   "source": [
    "training"
   ]
  },
  {
   "cell_type": "code",
   "execution_count": null,
   "metadata": {
    "id": "DMrJ9kNpxUfu"
   },
   "outputs": [],
   "source": [
    "X = training.drop(['price_range'], axis=1)\r\n",
    "y = training['price_range']"
   ]
  },
  {
   "cell_type": "code",
   "execution_count": null,
   "metadata": {
    "colab": {
     "base_uri": "https://localhost:8080/"
    },
    "id": "fE1x5MrLyM5N",
    "outputId": "2004490e-420e-42d6-a968-1699d74b682a"
   },
   "outputs": [],
   "source": [
    "X.iloc[:,:].values"
   ]
  },
  {
   "cell_type": "code",
   "execution_count": null,
   "metadata": {
    "colab": {
     "base_uri": "https://localhost:8080/",
     "height": 439
    },
    "id": "xXaCFLyAySfL",
    "outputId": "aadfe330-b0a5-43ca-c739-2bc0c24831ba"
   },
   "outputs": [],
   "source": [
    "X"
   ]
  },
  {
   "cell_type": "code",
   "execution_count": null,
   "metadata": {
    "colab": {
     "base_uri": "https://localhost:8080/",
     "height": 439
    },
    "id": "v8_NBgZXyqYt",
    "outputId": "bd8aee0a-a472-434d-b7cc-09a683f5f27c"
   },
   "outputs": [],
   "source": [
    "X_test = testing\r\n",
    "X_test"
   ]
  },
  {
   "cell_type": "code",
   "execution_count": null,
   "metadata": {
    "id": "P1AamfuEyrfc"
   },
   "outputs": [],
   "source": [
    "from sklearn.preprocessing import StandardScaler\r\n",
    "\r\n",
    "cols = X.columns\r\n",
    "cols2 = testing.columns\r\n",
    "\r\n",
    "scaler = StandardScaler()\r\n",
    "X = scaler.fit_transform(X)\r\n",
    "X_test = scaler.transform(X_test)\r\n",
    "\r\n",
    "X = pd.DataFrame(X, columns=cols)\r\n",
    "X_test = pd.DataFrame(X_test, columns=cols)"
   ]
  },
  {
   "cell_type": "code",
   "execution_count": null,
   "metadata": {
    "colab": {
     "base_uri": "https://localhost:8080/",
     "height": 439
    },
    "id": "huKOXbqQzhWy",
    "outputId": "c11eb55e-289e-4722-a459-a356374e73a0"
   },
   "outputs": [],
   "source": [
    "X"
   ]
  },
  {
   "cell_type": "code",
   "execution_count": null,
   "metadata": {
    "colab": {
     "base_uri": "https://localhost:8080/",
     "height": 439
    },
    "id": "NvNoEKcz5Rq4",
    "outputId": "94e9f7ee-3f2c-4fa1-cb89-f1924cbb169b"
   },
   "outputs": [],
   "source": [
    "X_test"
   ]
  },
  {
   "cell_type": "code",
   "execution_count": null,
   "metadata": {
    "colab": {
     "base_uri": "https://localhost:8080/"
    },
    "id": "JOHiJWND05Ii",
    "outputId": "172ff56b-5c0c-425f-89c9-1a7f6d9e2127"
   },
   "outputs": [],
   "source": [
    "y"
   ]
  },
  {
   "cell_type": "code",
   "execution_count": null,
   "metadata": {
    "colab": {
     "base_uri": "https://localhost:8080/"
    },
    "id": "b0E5x1ky2oPD",
    "outputId": "20c0f617-9b20-41fc-be89-5193f7836a58"
   },
   "outputs": [],
   "source": [
    "y = y.replace({'0-<1000k':0, '1000k-<2000k':1, '2000k-3000k':2, '>3000k':3})\r\n",
    "y"
   ]
  },
  {
   "cell_type": "code",
   "execution_count": null,
   "metadata": {
    "colab": {
     "base_uri": "https://localhost:8080/"
    },
    "id": "_Z7XxanO3ejl",
    "outputId": "fe8bff11-4090-45f2-e020-ee322b0affd1"
   },
   "outputs": [],
   "source": [
    "from sklearn.ensemble import RandomForestClassifier\r\n",
    "\r\n",
    "RFC = RandomForestClassifier(n_estimators=15,\r\n",
    "                             min_samples_split=5,\r\n",
    "                             min_samples_leaf=4,\r\n",
    "                             max_features='auto',\r\n",
    "                             max_depth=20,\r\n",
    "                             criterion='gini'\r\n",
    "                             )\r\n",
    "RFC.fit(X,y)"
   ]
  },
  {
   "cell_type": "code",
   "execution_count": null,
   "metadata": {
    "colab": {
     "base_uri": "https://localhost:8080/"
    },
    "id": "hIgzscuJ4GfG",
    "outputId": "174594d8-afba-43f2-ebf1-cb498f0421eb"
   },
   "outputs": [],
   "source": [
    "y_predict = RFC.predict(X_test)\r\n",
    "y_predict"
   ]
  },
  {
   "cell_type": "code",
   "execution_count": null,
   "metadata": {
    "id": "jMp8XT5P4Hn6"
   },
   "outputs": [],
   "source": [
    "submission = pd.DataFrame({'index' : testing['index'],'price_range':predict})\n",
    "submission.to_csv('tes_gaji.csv', index=False)"
   ]
  },
  {
   "cell_type": "code",
   "execution_count": null,
   "metadata": {},
   "outputs": [],
   "source": [
    "submission = pd.DataFrame({'index' : testing['index'],'price_range':y_predict})\n",
    "submission.to_csv('tes_gaji.csv', index=False)"
   ]
  }
 ],
 "metadata": {
  "colab": {
   "name": "Coba.ipynb",
   "provenance": []
  },
  "kernelspec": {
   "display_name": "Python 3",
   "language": "python",
   "name": "python3"
  },
  "language_info": {
   "codemirror_mode": {
    "name": "ipython",
    "version": 3
   },
   "file_extension": ".py",
   "mimetype": "text/x-python",
   "name": "python",
   "nbconvert_exporter": "python",
   "pygments_lexer": "ipython3",
   "version": "3.8.5"
  }
 },
 "nbformat": 4,
 "nbformat_minor": 4
}
